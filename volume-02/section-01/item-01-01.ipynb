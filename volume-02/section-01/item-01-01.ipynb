{
 "cells": [
  {
   "cell_type": "markdown",
   "metadata": {},
   "source": [
    "# §1 数列とその和"
   ]
  },
  {
   "cell_type": "code",
   "execution_count": 44,
   "metadata": {
    "collapsed": true
   },
   "outputs": [],
   "source": [
    "import sympy as sym\n",
    "sym.init_printing()\n",
    "Pi = sym.S.Pi # 円周率\n",
    "E = sym.S.Exp1 # 自然対数の底\n",
    "I = sym.S.ImaginaryUnit # 虚数単位\n",
    "oo = sym.oo # 無限大\n",
    "\n",
    "# 使用する変数の定義(小文字1文字は全てシンボルとする)\n",
    "(a,b,c,d,e,f,g,h,i,j,k,l,m,n,o,p,q,r,s,t,u,v,w,x,y,z) = sym.symbols('a b c d e f g h i j k l m n o p q r s t u v w x y z')\n",
    "\n",
    "import scipy as sci\n",
    "import matplotlib.pyplot as plt\n",
    "%matplotlib inline"
   ]
  },
  {
   "cell_type": "markdown",
   "metadata": {},
   "source": [
    "## 1.1 数列とその和"
   ]
  },
  {
   "cell_type": "markdown",
   "metadata": {},
   "source": [
    "### 数列"
   ]
  },
  {
   "cell_type": "code",
   "execution_count": 48,
   "metadata": {
    "collapsed": false
   },
   "outputs": [
    {
     "data": {
      "image/png": "[encoded data removed]",
      "text/latex": [
       "$$3 n + 2$$"
      ],
      "text/plain": [
       "3⋅n + 2"
      ]
     },
     "execution_count": 48,
     "metadata": {},
     "output_type": "execute_result"
    }
   ],
   "source": [
    "# 問 1.1 (1)\n",
    "# 一般項が次であらわされる数列の初項から第5項目までを書く\n",
    "\n",
    "F = 3*n+2\n",
    "sym.expand(F)"
   ]
  },
  {
   "cell_type": "code",
   "execution_count": 49,
   "metadata": {
    "collapsed": false
   },
   "outputs": [
    {
     "name": "stdout",
     "output_type": "stream",
     "text": [
      "[2, 5, 8, 11, 14]\n"
     ]
    }
   ],
   "source": [
    "min = 0\n",
    "max = 4\n",
    "\n",
    "A = sym.sequence(F, (n, min, max))\n",
    "print([int(N) for N in A])"
   ]
  },
  {
   "cell_type": "markdown",
   "metadata": {
    "collapsed": true
   },
   "source": [
    "## 1.2 等差数列"
   ]
  },
  {
   "cell_type": "code",
   "execution_count": 39,
   "metadata": {
    "collapsed": false
   },
   "outputs": [
    {
     "data": {
      "image/png": "[encoded data removed]",
      "text/latex": [
       "$$4 n + 2$$"
      ],
      "text/plain": [
       "4⋅n + 2"
      ]
     },
     "execution_count": 39,
     "metadata": {},
     "output_type": "execute_result"
    }
   ],
   "source": [
    "# 問1.3(1)\n",
    "# 初項 a , 公差 d の等差数列の一般項 \n",
    "# 初項3,　公差4の等差数列の一般項\n",
    "\n",
    "a = 6\n",
    "d = 4\n",
    "F = 6 + (n - 1)*d\n",
    "sym.expand(F)"
   ]
  },
  {
   "cell_type": "code",
   "execution_count": 61,
   "metadata": {
    "collapsed": false
   },
   "outputs": [
    {
     "data": {
      "image/png": "[encoded data removed]",
      "text/latex": [
       "$$\\left [ 2, \\quad 5, \\quad 8, \\quad 11, \\quad 14, \\quad 17, \\quad 20, \\quad 23, \\quad 26, \\quad 29, \\quad 32, \\quad 35, \\quad 38, \\quad 41, \\quad 44, \\quad 47, \\quad 50, \\quad 53, \\quad 56, \\quad 59, \\quad 62, \\quad 65, \\quad 68, \\quad 71, \\quad 74, \\quad 77, \\quad 80, \\quad 83, \\quad 86, \\quad 89, \\quad 92, \\quad 95, \\quad 98, \\quad 101, \\quad 104, \\quad 107, \\quad 110, \\quad 113, \\quad 116, \\quad 119, \\quad 122, \\quad 125, \\quad 128, \\quad 131, \\quad 134, \\quad 137, \\quad 140, \\quad 143, \\quad 146, \\quad 149, \\quad 152, \\quad 155, \\quad 158, \\quad 161, \\quad 164, \\quad 167, \\quad 170, \\quad 173, \\quad 176, \\quad 179, \\quad 182, \\quad 185, \\quad 188, \\quad 191, \\quad 194, \\quad 197, \\quad 200, \\quad 203, \\quad 206, \\quad 209, \\quad 212, \\quad 215, \\quad 218, \\quad 221, \\quad 224, \\quad 227, \\quad 230, \\quad 233, \\quad 236, \\quad 239, \\quad 242, \\quad 245, \\quad 248, \\quad 251, \\quad 254, \\quad 257, \\quad 260, \\quad 263, \\quad 266, \\quad 269, \\quad 272, \\quad 275, \\quad 278, \\quad 281, \\quad 284, \\quad 287, \\quad 290, \\quad 293, \\quad 296, \\quad 299, \\quad 302\\right ]$$"
      ],
      "text/plain": [
       "[2, 5, 8, 11, 14, 17, 20, 23, 26, 29, 32, 35, 38, 41, 44, 47, 50, 53, 56, 59, \n",
       "62, 65, 68, 71, 74, 77, 80, 83, 86, 89, 92, 95, 98, 101, 104, 107, 110, 113, 1\n",
       "16, 119, 122, 125, 128, 131, 134, 137, 140, 143, 146, 149, 152, 155, 158, 161,\n",
       " 164, 167, 170, 173, 176, 179, 182, 185, 188, 191, 194, 197, 200, 203, 206, 20\n",
       "9, 212, 215, 218, 221, 224, 227, 230, 233, 236, 239, 242, 245, 248, 251, 254, \n",
       "257, 260, 263, 266, 269, 272, 275, 278, 281, 284, 287, 290, 293, 296, 299, 302\n",
       "]"
      ]
     },
     "execution_count": 61,
     "metadata": {},
     "output_type": "execute_result"
    }
   ],
   "source": [
    "#　また、７４は何項目か？\n",
    "\n",
    "min = 0\n",
    "max = 100\n",
    "A = sym.sequence(F, (n, min, max))\n",
    "\n",
    "[int(N) for N in A]"
   ]
  },
  {
   "cell_type": "code",
   "execution_count": 60,
   "metadata": {
    "collapsed": false
   },
   "outputs": [
    {
     "data": {
      "image/png": "[encoded data removed]",
      "text/latex": [
       "$$25$$"
      ],
      "text/plain": [
       "25"
      ]
     },
     "execution_count": 60,
     "metadata": {},
     "output_type": "execute_result"
    }
   ],
   "source": [
    "[int(N) for N in A].index(74) + 1"
   ]
  },
  {
   "cell_type": "code",
   "execution_count": 63,
   "metadata": {
    "collapsed": true
   },
   "outputs": [],
   "source": [
    "#　問1.4　第3項が1、第6項が10である等差数列について\n",
    "#　初項a,　公差d、および第20項目を求めよ\n",
    "\n"
   ]
  },
  {
   "cell_type": "code",
   "execution_count": 64,
   "metadata": {
    "collapsed": true
   },
   "outputs": [],
   "source": [
    "# ??????"
   ]
  },
  {
   "cell_type": "markdown",
   "metadata": {},
   "source": [
    "### 等差数列の和"
   ]
  },
  {
   "cell_type": "code",
   "execution_count": 79,
   "metadata": {
    "collapsed": false
   },
   "outputs": [
    {
     "data": {
      "image/png": "[encoded data removed]",
      "text/latex": [
       "$$10000 a + 49995 d$$"
      ],
      "text/plain": [
       "10000⋅a + 49995⋅d"
      ]
     },
     "execution_count": 79,
     "metadata": {},
     "output_type": "execute_result"
    }
   ],
   "source": [
    "#　初項a,　公差ｄの等差数列の初稿から第ｎ項までの和\n",
    "\n",
    "F1 = a+(n-1)*d\n",
    "F1\n",
    "\n",
    "F2 = n*(a+F1)\n",
    "F2\n",
    "\n",
    "A = sym.summation(F1,(n,1,10))\n",
    "A"
   ]
  },
  {
   "cell_type": "markdown",
   "metadata": {
    "collapsed": true
   },
   "source": [
    "## 1.3 等比数列"
   ]
  },
  {
   "cell_type": "code",
   "execution_count": null,
   "metadata": {
    "collapsed": true
   },
   "outputs": [],
   "source": []
  },
  {
   "cell_type": "markdown",
   "metadata": {},
   "source": [
    "## 1.4 いろいろな数列"
   ]
  },
  {
   "cell_type": "code",
   "execution_count": null,
   "metadata": {
    "collapsed": true
   },
   "outputs": [],
   "source": []
  },
  {
   "cell_type": "markdown",
   "metadata": {},
   "source": [
    "## 1.5 数学的帰納法"
   ]
  },
  {
   "cell_type": "code",
   "execution_count": null,
   "metadata": {
    "collapsed": true
   },
   "outputs": [],
   "source": []
  }
 ],
 "metadata": {
  "kernelspec": {
   "display_name": "Python 3",
   "language": "python",
   "name": "python3"
  },
  "language_info": {
   "codemirror_mode": {
    "name": "ipython",
    "version": 3
   },
   "file_extension": ".py",
   "mimetype": "text/x-python",
   "name": "python",
   "nbconvert_exporter": "python",
   "pygments_lexer": "ipython3",
   "version": "3.6.0"
  }
 },
 "nbformat": 4,
 "nbformat_minor": 2
}
