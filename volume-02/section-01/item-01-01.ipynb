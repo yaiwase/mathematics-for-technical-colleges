{
 "cells": [
  {
   "cell_type": "markdown",
   "metadata": {},
   "source": [
    "# §1 数列とその和"
   ]
  },
  {
   "cell_type": "code",
   "execution_count": 31,
   "metadata": {},
   "outputs": [
    {
     "name": "stdout",
     "output_type": "stream",
     "text": [
      "IPython console for SymPy 1.0 (Python 3.6.1-64-bit) (ground types: python)\n"
     ]
    }
   ],
   "source": [
    "import sympy as sym\n",
    "sym.init_printing()\n",
    "sym.init_session(quiet=True)\n",
    "\n",
    "Pi = sym.S.Pi # 円周率\n",
    "E = sym.S.Exp1 # 自然対数の底\n",
    "I = sym.S.ImaginaryUnit # 虚数単位\n",
    "oo = sym.oo # 無限大\n",
    "\n",
    "# 使用する変数の定義(小文字1文字は全てシンボルとする)\n",
    "(a,b,c,d,e,f,g,h,i,j,k,l,m,n,o,p,q,r,s,t,u,v,w,x,y,z) = sym.symbols('a b c d e f g h i j k l m n o p q r s t u v w x y z')\n",
    "\n",
    "import scipy as sci\n",
    "import matplotlib.pyplot as plt\n",
    "%matplotlib inline"
   ]
  },
  {
   "cell_type": "code",
   "execution_count": 32,
   "metadata": {},
   "outputs": [],
   "source": [
    "(xalpha, Gammavec__1_rho, delta__j_k) = sym.symbols('xalpha Gammavec__1_rho delta__j_k')\n",
    "(S_n) = sym.symbols('S_n')"
   ]
  },
  {
   "cell_type": "markdown",
   "metadata": {},
   "source": [
    "## 1.1 数列とその和"
   ]
  },
  {
   "cell_type": "markdown",
   "metadata": {},
   "source": [
    "### 数列"
   ]
  },
  {
   "cell_type": "code",
   "execution_count": 33,
   "metadata": {},
   "outputs": [
    {
     "data": {
      "image/png": "[encoded data removed]",
      "text/latex": [
       "$$3 n + 2$$"
      ],
      "text/plain": [
       "3⋅n + 2"
      ]
     },
     "execution_count": 33,
     "metadata": {},
     "output_type": "execute_result"
    }
   ],
   "source": [
    "# 問 1.1 (1)\n",
    "# 一般項が次であらわされる数列の初項から第5項目までを書く\n",
    "\n",
    "F = 3*n+2\n",
    "sym.expand(F)"
   ]
  },
  {
   "cell_type": "code",
   "execution_count": 36,
   "metadata": {},
   "outputs": [
    {
     "name": "stdout",
     "output_type": "stream",
     "text": [
      "[2, 5, 8, 11, 14]\n"
     ]
    }
   ],
   "source": [
    "min = 0\n",
    "max = 4\n",
    "\n",
    "A = sym.sequence(F, (n, min, max))\n",
    "print([int(N) for N in A])"
   ]
  },
  {
   "cell_type": "markdown",
   "metadata": {
    "collapsed": true
   },
   "source": [
    "## 1.2 等差数列"
   ]
  },
  {
   "cell_type": "code",
   "execution_count": 20,
   "metadata": {},
   "outputs": [
    {
     "data": {
      "image/png": "[encoded data removed]",
      "text/latex": [
       "$$4 n + 2$$"
      ],
      "text/plain": [
       "4⋅n + 2"
      ]
     },
     "execution_count": 20,
     "metadata": {},
     "output_type": "execute_result"
    }
   ],
   "source": [
    "# 問1.3(1)\n",
    "# 初項 a , 公差 d の等差数列の一般項 \n",
    "# 初項3,　公差4の等差数列の一般項\n",
    "\n",
    "a = 6\n",
    "d = 4\n",
    "F = 6 + (n - 1)*d\n",
    "sym.expand(F)"
   ]
  },
  {
   "cell_type": "code",
   "execution_count": 21,
   "metadata": {},
   "outputs": [
    {
     "data": {
      "image/png": "[encoded data removed]",
      "text/latex": [
       "$$\\left [ 2, \\quad 6, \\quad 10, \\quad 14, \\quad 18, \\quad 22, \\quad 26, \\quad 30, \\quad 34, \\quad 38, \\quad 42, \\quad 46, \\quad 50, \\quad 54, \\quad 58, \\quad 62, \\quad 66, \\quad 70, \\quad 74, \\quad 78, \\quad 82, \\quad 86, \\quad 90, \\quad 94, \\quad 98, \\quad 102, \\quad 106\\right ]$$"
      ],
      "text/plain": [
       "[2, 6, 10, 14, 18, 22, 26, 30, 34, 38, 42, 46, 50, 54, 58, 62, 66, 70, 74, 78,\n",
       " 82, 86, 90, 94, 98, 102, 106]"
      ]
     },
     "execution_count": 21,
     "metadata": {},
     "output_type": "execute_result"
    }
   ],
   "source": [
    "#　また、７４は何項目か？\n",
    "\n",
    "min = 0\n",
    "max = 26\n",
    "A = sym.sequence(F, (n, min, max))\n",
    "\n",
    "[int(N) for N in A]"
   ]
  },
  {
   "cell_type": "code",
   "execution_count": 22,
   "metadata": {},
   "outputs": [
    {
     "data": {
      "image/png": "[encoded data removed]",
      "text/latex": [
       "$$19$$"
      ],
      "text/plain": [
       "19"
      ]
     },
     "execution_count": 22,
     "metadata": {},
     "output_type": "execute_result"
    }
   ],
   "source": [
    "[int(N) for N in A].index(74) + 1"
   ]
  },
  {
   "cell_type": "code",
   "execution_count": 23,
   "metadata": {
    "collapsed": true
   },
   "outputs": [],
   "source": [
    "#　問1.4　第3項が1、第6項が10である等差数列について\n",
    "#　初項a,　公差d、および第20項目を求めよ\n",
    "\n"
   ]
  },
  {
   "cell_type": "code",
   "execution_count": 24,
   "metadata": {
    "collapsed": true
   },
   "outputs": [],
   "source": [
    "# ??????"
   ]
  },
  {
   "cell_type": "markdown",
   "metadata": {},
   "source": [
    "### 等差数列の和"
   ]
  },
  {
   "cell_type": "code",
   "execution_count": 39,
   "metadata": {},
   "outputs": [
    {
     "data": {
      "image/png": "[encoded data removed]",
      "text/latex": [
       "$$S_{n} = n \\left(2 a + d \\left(n - 1\\right)\\right)$$"
      ],
      "text/plain": [
       "Sₙ = n⋅(2⋅a + d⋅(n - 1))"
      ]
     },
     "execution_count": 39,
     "metadata": {},
     "output_type": "execute_result"
    }
   ],
   "source": [
    "#　初項a,　公差ｄの等差数列の初稿から第ｎ項までの和\n",
    "\n",
    "F1 = a+(n-1)*d\n",
    "F2 = n*(a+F1)\n",
    "\n",
    "A = sym.summation(F1,(n,1,10))\n",
    "Eq(S_n,F2)"
   ]
  },
  {
   "cell_type": "markdown",
   "metadata": {
    "collapsed": true
   },
   "source": [
    "## 1.3 等比数列"
   ]
  },
  {
   "cell_type": "code",
   "execution_count": null,
   "metadata": {
    "collapsed": true
   },
   "outputs": [],
   "source": []
  },
  {
   "cell_type": "markdown",
   "metadata": {},
   "source": [
    "## 1.4 いろいろな数列"
   ]
  },
  {
   "cell_type": "code",
   "execution_count": null,
   "metadata": {
    "collapsed": true
   },
   "outputs": [],
   "source": []
  },
  {
   "cell_type": "markdown",
   "metadata": {},
   "source": [
    "## 1.5 数学的帰納法"
   ]
  },
  {
   "cell_type": "code",
   "execution_count": null,
   "metadata": {
    "collapsed": true
   },
   "outputs": [],
   "source": []
  }
 ],
 "metadata": {
  "kernelspec": {
   "display_name": "Python 3",
   "language": "python",
   "name": "python3"
  },
  "language_info": {
   "codemirror_mode": {
    "name": "ipython",
    "version": 3
   },
   "file_extension": ".py",
   "mimetype": "text/x-python",
   "name": "python",
   "nbconvert_exporter": "python",
   "pygments_lexer": "ipython3",
   "version": "3.6.1"
  }
 },
 "nbformat": 4,
 "nbformat_minor": 2
}
